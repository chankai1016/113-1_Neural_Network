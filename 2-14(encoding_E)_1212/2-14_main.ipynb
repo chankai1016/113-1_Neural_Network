{
 "cells": [
  {
   "cell_type": "markdown",
   "id": "66f0584a",
   "metadata": {},
   "source": [
    "# Homework 12/12 (2-14 encoding_E)\n",
    "\n",
    "This is an homework for a neural network course offered by the master's class of the Department of IEM at the NCUT in the first semester of the 2024 academic year (113-1).\n",
    "\n",
    "**Submitted by: 4B315021 詹家緯**\n",
    "\n",
    "The codes can be viewed on GitHub: [https://github.com/chankai1016/113-1_Neural_Network/](https://github.com/chankai1016/113-1_Neural_Network)\n",
    "\n",
    "## Code"
   ]
  },
  {
   "cell_type": "code",
   "execution_count": 9,
   "id": "c0c3ebd2-b469-431d-9831-ccea8866375d",
   "metadata": {},
   "outputs": [
    {
     "name": "stdout",
     "output_type": "stream",
     "text": [
      "訓練正確率: 0.9583333134651184\n",
      "測試正確率: 1.0\n",
      "1/1 [==============================] - 0s 124ms/step\n",
      "混淆矩陣:\n",
      " [[10  0  0]\n",
      " [ 0  9  0]\n",
      " [ 0  0 11]]\n",
      "Pixel 資料形狀: (4, 63)\n"
     ]
    }
   ],
   "source": [
    "import numpy as np\n",
    "from sklearn.datasets import load_iris\n",
    "from sklearn.model_selection import train_test_split\n",
    "from sklearn.preprocessing import OneHotEncoder, StandardScaler\n",
    "from sklearn.metrics import confusion_matrix\n",
    "import tensorflow as tf\n",
    "from tensorflow.keras import layers, models\n",
    "\n",
    "# 載入 iris 資料集\n",
    "iris = load_iris()\n",
    "X = iris.data  # shape: (150,4)\n",
    "y = iris.target.reshape(-1,1)  # shape: (150,1)\n",
    "\n",
    "# One-hot encode y (使用新版 sklearn 參數)\n",
    "encoder = OneHotEncoder(sparse_output=False)\n",
    "y_encoded = encoder.fit_transform(y)  # shape: (150,3)\n",
    "\n",
    "# 分割資料集\n",
    "X_train, X_test, y_train, y_test = train_test_split(X, y_encoded, test_size=0.2, random_state=42)\n",
    "\n",
    "# 標準化特徵\n",
    "scaler = StandardScaler()\n",
    "X_train = scaler.fit_transform(X_train)\n",
    "X_test = scaler.transform(X_test)\n",
    "\n",
    "# 建立 Keras 模型 (輸入4維特徵)\n",
    "model = models.Sequential([\n",
    "    layers.Dense(16, activation='relu', input_shape=(X_train.shape[1],)),\n",
    "    layers.Dense(16, activation='relu'),\n",
    "    layers.Dense(3, activation='softmax')\n",
    "])\n",
    "\n",
    "model.compile(optimizer='adam', loss='categorical_crossentropy', metrics=['accuracy'])\n",
    "\n",
    "# 訓練模型\n",
    "model.fit(X_train, y_train, epochs=50, batch_size=8, verbose=0)\n",
    "\n",
    "# 評估模型\n",
    "train_loss, train_acc = model.evaluate(X_train, y_train, verbose=0)\n",
    "test_loss, test_acc = model.evaluate(X_test, y_test, verbose=0)\n",
    "print(\"訓練正確率:\", train_acc)\n",
    "print(\"測試正確率:\", test_acc)\n",
    "\n",
    "# 混淆矩陣\n",
    "y_pred_proba = model.predict(X_test)\n",
    "y_pred = np.argmax(y_pred_proba, axis=1)\n",
    "y_true = np.argmax(y_test, axis=1)\n",
    "cm = confusion_matrix(y_true, y_pred)\n",
    "print(\"混淆矩陣:\\n\", cm)\n",
    "\n",
    "# 處理 7x9 pixel 資料 (共四組)\n",
    "pixel_data = [\n",
    " [1,1,1,1,1,1,1,0,1,0,0,0,0,1,0,1,0,0,0,0,0,0,1,0,1,0,0,0,0,1,1,1,0,0,0,0,1,0,1,0,0,0,0,1,0,0,0,0,0,0,1,0,0,0,0,1,1,1,1,1,1,1,1],\n",
    " [1,1,1,1,1,1,1,1,0,0,0,0,0,0,1,0,0,0,0,0,0,1,0,0,0,0,0,0,1,1,1,1,1,0,0,1,0,0,0,0,0,0,1,0,0,0,0,0,0,1,0,0,0,0,0,0,1,1,1,1,1,1,1],\n",
    " [1,1,1,1,1,1,1,0,1,0,0,0,0,1,0,1,0,0,0,0,0,0,1,0,1,0,0,0,0,1,1,1,1,0,0,0,1,0,1,0,0,0,0,1,0,0,0,0,0,0,1,0,0,0,0,1,1,1,1,1,1,1,1],\n",
    " [1,1,1,1,1,1,1,1,0,0,0,0,0,0,1,0,0,0,0,0,0,1,0,0,0,0,0,0,1,1,1,1,1,0,0,1,0,0,0,0,0,0,1,0,1,0,0,0,0,1,0,1,0,0,0,0,1,1,1,1,1,1,1]\n",
    "]\n",
    "\n",
    "X_pixels = np.array(pixel_data)  # shape: (4,63)\n",
    "print(\"Pixel 資料形狀:\", X_pixels.shape)\n",
    "\n",
    "# 若想用同一個模型預測需要相同的輸入維度(4維)，但 pixel_data 為63維，不相容。\n",
    "# 因此無法直接將 X_pixels 丟入同一個 iris 模型做預測。\n",
    "# 若要對 pixel 資料進行分析，需要建立一個有 input_shape=(63,) 的新模型並針對該任務進行訓練。\n"
   ]
  },
  {
   "cell_type": "code",
   "execution_count": null,
   "id": "afc2f9c3-5df9-4267-ae5e-b08743cc8869",
   "metadata": {},
   "outputs": [],
   "source": []
  }
 ],
 "metadata": {
  "kernelspec": {
   "display_name": "Python 3 (ipykernel)",
   "language": "python",
   "name": "python3"
  },
  "language_info": {
   "codemirror_mode": {
    "name": "ipython",
    "version": 3
   },
   "file_extension": ".py",
   "mimetype": "text/x-python",
   "name": "python",
   "nbconvert_exporter": "python",
   "pygments_lexer": "ipython3",
   "version": "3.9.15"
  }
 },
 "nbformat": 4,
 "nbformat_minor": 5
}
